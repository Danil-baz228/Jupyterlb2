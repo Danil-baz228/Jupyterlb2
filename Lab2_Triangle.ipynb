{
 "nbformat": 4,
 "nbformat_minor": 5,
 "metadata": {},
 "cells": [
  {
   "id": "6f9b5250",
   "cell_type": "markdown",
   "source": [
    "\n",
    "# Лабораторна робота №2\n",
    "### Тема: Робота з класами в Python  \n",
    "### Мета: Отримати базові навички створення та роботи з класами на мові Python.\n",
    "N = ord(“X”) % 3 + 1,\n",
    "**Варіант:** №3 — трикутник  \n",
    "\n"
   ],
   "metadata": {}
  },
  {
   "id": "ccaa488b",
   "cell_type": "markdown",
   "source": [
    "\n",
    "## 1. Постановка задачі\n",
    "Необхідно створити програму, що працює з трикутником, використовуючи класи.  \n",
    "Передбачити обробку винятків, якщо трикутник не може існувати.\n",
    "\n",
    "\n"
   ],
   "metadata": {}
  },
  {
   "id": "84adca51",
   "cell_type": "code",
   "metadata": {
    "jupyter": {
     "is_executing": true
    }
   },
   "source": [
    "\n",
    "import math\n",
    "\n",
    "\n",
    "class Point:\n",
    "    def __init__(self, x, y):\n",
    "        self.x = x\n",
    "        self.y = y\n",
    "\n",
    "    def __str__(self):\n",
    "        return f\"({self.x}, {self.y})\"\n",
    "\n",
    "\n",
    "\n",
    "class WrongDataError(Exception):\n",
    "    def __init__(self, message=\"This points create a degenerate triangle\"):\n",
    "        super().__init__(message)\n",
    "\n",
    "class MissingParameterError(Exception):\n",
    "    def __init__(self, message=\"Missing parameter\"):\n",
    "        super().__init__(message)\n",
    "\n",
    "\n",
    "\n",
    "class Triangle:\n",
    "    def __init__(self, A, B=None, C=None):\n",
    "        if B is None or C is None:\n",
    "            raise MissingParameterError()\n",
    "\n",
    "        self.A = A\n",
    "        self.B = B\n",
    "        self.C = C\n",
    "\n",
    "\n",
    "\n",
    "        area_value = abs(\n",
    "            (A.x * (B.y - C.y) + B.x * (C.y - A.y) + C.x * (A.y - B.y)) / 2\n",
    "        )\n",
    "        if area_value == 0:\n",
    "            raise WrongDataError()\n",
    "\n",
    "    def area(self):\n",
    "        return abs(\n",
    "            (self.A.x * (self.B.y - self.C.y)\n",
    "             + self.B.x * (self.C.y - self.A.y)\n",
    "             + self.C.x * (self.A.y - self.B.y)) / 2\n",
    "        )\n",
    "\n",
    "    def perimeter(self):\n",
    "        ab = math.dist((self.A.x, self.A.y), (self.B.x, self.B.y))\n",
    "        bc = math.dist((self.B.x, self.B.y), (self.C.x, self.C.y))\n",
    "        ca = math.dist((self.C.x, self.C.y), (self.A.x, self.A.y))\n",
    "        return round(ab + bc + ca, 3)\n",
    "\n",
    "    def __str__(self):\n",
    "        return f\"A = {self.A}, B = {self.B}, C = {self.C}\"\n"
   ],
   "outputs": [],
   "execution_count": null
  },
  {
   "id": "03f0e17b",
   "cell_type": "code",
   "metadata": {
    "ExecuteTime": {
     "end_time": "2025-10-06T22:19:06.278292Z",
     "start_time": "2025-10-06T22:19:06.274603Z"
    }
   },
   "source": "\n# === Тест 1 ===\ntriangle = Triangle(Point(-3, 6), Point(-3, 2), Point(3, 2))\nprint(triangle)\nprint(\"Area:\", triangle.area())\nprint(\"Perimeter:\", triangle.perimeter())\n\n# === Тест 2: Недостатньо параметрів ===\ntry:\n    t2 = Triangle(Point(-3, 6), Point(-3, 2))\nexcept Exception as e:\n    print(\"Error:\", e)\n\n# === Тест 3: Вироджений трикутник ===\ntry:\n    t3 = Triangle(Point(-3, 6), Point(-3, 2), Point(-3, 2))\nexcept Exception as e:\n    print(\"Error:\", e)\n",
   "outputs": [
    {
     "name": "stdout",
     "output_type": "stream",
     "text": [
      "A = (-3, 6), B = (-3, 2), C = (3, 2)\n",
      "Area: 12.0\n",
      "Perimeter: 17.211\n",
      "Error: Missing parameter\n",
      "Error: This points create a degenerate triangle\n"
     ]
    }
   ],
   "execution_count": 4
  },
  {
   "id": "2161339e",
   "cell_type": "markdown",
   "source": "\n## 2. Висновки\n\nУ ході виконання лабораторної роботи я:\n- Ознайомився з принципами **створення класів у Python**;\n- Навчився використовувати **методи класів, винятки та об’єкти як аргументи**;\n- Реалізував програму для роботи з **геометричними об’єктами** (точки, трикутники);\n- Закріпив знання про **інкапсуляцію, методи класів та обробку помилок**.\n\nРезультат роботи підтвердив правильність реалізації поставленої задачі.\n",
   "metadata": {}
  }
 ]
}
